{
 "cells": [
  {
   "cell_type": "markdown",
   "id": "8c0854bb",
   "metadata": {},
   "source": [
    "<h1 style='color: #6a5acd; font-size: 34px; font-weight: bold;'>Exploração Biblioteca UFRN\n",
    "\n",
    "</h1>\n"
   ]
  },
  {
   "cell_type": "markdown",
   "id": "ba323189",
   "metadata": {},
   "source": [
    "# <font color=\"#cda35a\" style=\"font-size: 30px;\">Objetivo</font>\n",
    "<hr style=\"border: 2px solid #cda35a;\">"
   ]
  },
  {
   "cell_type": "markdown",
   "id": "b007b7a3",
   "metadata": {},
   "source": [
    " <p style='font-size: 23px; line-height: 2; margin: 0px 0px; text-align: justify; text-indent: 0px;'>    \n",
    "<i><b> Explorar dos dados da biblioteca da UFRN, responde algumas preguntas, como: A quantidade de empréstimos está aumentando ou diminuindo ao decorrer dos últimos anos? Em quais bibliotecas do sistema estão a maior quantidade de empréstimos?\n",
    "Quais são os temas mais emprestados? E os menos? _______ e indentificar possíveis problemas e soluções </b></i>     \n",
    "</p>\n",
    "\n",
    "---"
   ]
  },
  {
   "cell_type": "markdown",
   "id": "7d24c5c0",
   "metadata": {},
   "source": [
    "# <font color=\"#cda35a\" style=\"font-size: 30px;\">Roteiro</font>\n",
    "<hr style=\"border: 2px solid #cda35a;\">"
   ]
  },
  {
   "cell_type": "markdown",
   "id": "be81258e",
   "metadata": {},
   "source": [
    "<h1 style='color: black; font-size:22px; font-weight: bold;'> 1. Importação de dados\n",
    "</h1>\n",
    "\n",
    "---\n",
    "\n",
    "<h1 style='color: black; font-size: 22px; font-weight: bold;'>2. Limpeza de dados\n",
    "\n",
    "</h1>\n",
    "\n",
    "---\n",
    "\n",
    "<h1 style='color: black; font-size: 22px; font-weight: bold;'> \n",
    "3. Análise exploratória de dados e DateTime\n",
    "</h1>\n",
    "\n",
    "---\n",
    "\n",
    "<h1 style='color: black; font-size: 22px; font-weight: bold;'> \n",
    "4. Análise exploratória de dados e Variáveis categóricas\n",
    "</h1>\n",
    "\n",
    "---\n",
    "\n",
    "<h1 style='color: black; font-size: 22px; font-weight: bold;'> \n",
    "5. Análise exploratória de dados e Boxplot\n",
    "</h1>\n",
    "\n",
    "---\n",
    "\n",
    "<h1 style='color: black; font-size: 22px; font-weight: bold;'> \n",
    "6. JSON, Excel e Pivot_table\n",
    "</h1>\n",
    "\n",
    "---\n",
    "\n",
    "<h1 style='color: black; font-size: 22px; font-weight: bold;'> \n",
    "7. Customização de tabelas\n",
    "</h1>\n",
    "\n",
    "---"
   ]
  },
  {
   "cell_type": "markdown",
   "id": "bac5c0a1",
   "metadata": {},
   "source": [
    "# <font color=\"#cda35a\" style=\"font-size: 30px;\">1. Importação de dados</font>\n",
    "<hr style=\"border: 2px solid #cda35a;\">"
   ]
  },
  {
   "cell_type": "markdown",
   "id": "4b625ea5",
   "metadata": {},
   "source": [
    "---\n",
    "## <font color=#5abdcd style=\"font-size: 30px;\">Unificar todos os arquivos em um único Dataframe</font>\n",
    "\n",
    "---"
   ]
  },
  {
   "cell_type": "code",
   "execution_count": 37,
   "id": "3c3344a5",
   "metadata": {},
   "outputs": [],
   "source": [
    "#importando bibliotecas\n",
    "\n",
    "import pandas as pd\n",
    "import os"
   ]
  },
  {
   "cell_type": "code",
   "execution_count": 38,
   "id": "278eb4a7",
   "metadata": {},
   "outputs": [],
   "source": [
    "# Lista para armazenar os caminhos dos arquivos CSV\n",
    "file_paths = [\n",
    "    os.path.join(\"Datasets\", \"dados_emprestimos\", \"emprestimos-20101.csv\"),\n",
    "    os.path.join(\"Datasets\", \"dados_emprestimos\", \"emprestimos-20102.csv\"),\n",
    "    os.path.join(\"Datasets\", \"dados_emprestimos\", \"emprestimos-20111.csv\"),\n",
    "    os.path.join(\"Datasets\", \"dados_emprestimos\", \"emprestimos-20112.csv\"),\n",
    "    os.path.join(\"Datasets\", \"dados_emprestimos\", \"emprestimos-20121.csv\"),\n",
    "    os.path.join(\"Datasets\", \"dados_emprestimos\", \"emprestimos-20122.csv\"),\n",
    "    os.path.join(\"Datasets\", \"dados_emprestimos\", \"emprestimos-20131.csv\"),\n",
    "    os.path.join(\"Datasets\", \"dados_emprestimos\", \"emprestimos-20132.csv\"),\n",
    "    os.path.join(\"Datasets\", \"dados_emprestimos\", \"emprestimos-20141.csv\"),\n",
    "    os.path.join(\"Datasets\", \"dados_emprestimos\", \"emprestimos-20142.csv\"),\n",
    "    os.path.join(\"Datasets\", \"dados_emprestimos\", \"emprestimos-20151.csv\"),\n",
    "    os.path.join(\"Datasets\", \"dados_emprestimos\", \"emprestimos-20152.csv\"),\n",
    "    os.path.join(\"Datasets\", \"dados_emprestimos\", \"emprestimos-20161.csv\"),\n",
    "    os.path.join(\"Datasets\", \"dados_emprestimos\", \"emprestimos-20162.csv\"),\n",
    "    os.path.join(\"Datasets\", \"dados_emprestimos\", \"emprestimos-20171.csv\"),\n",
    "    os.path.join(\"Datasets\", \"dados_emprestimos\", \"emprestimos-20172.csv\"),\n",
    "    os.path.join(\"Datasets\", \"dados_emprestimos\", \"emprestimos-20181.csv\"),\n",
    "    os.path.join(\"Datasets\", \"dados_emprestimos\", \"emprestimos-20182.csv\"),\n",
    "    os.path.join(\"Datasets\", \"dados_emprestimos\", \"emprestimos-20191.csv\"),\n",
    "    os.path.join(\"Datasets\", \"dados_emprestimos\", \"emprestimos-20192.csv\"),\n",
    "    os.path.join(\"Datasets\", \"dados_emprestimos\", \"emprestimos-20201.csv\")\n",
    "]\n",
    "\n",
    "\n",
    "# Lista para armazenar os DataFrames de cada arquivo\n",
    "data_frames = []\n",
    "\n",
    "# Iterar sobre os caminhos dos arquivos CSV\n",
    "for file_path in file_paths:\n",
    "    df = pd.read_csv(file_path)\n",
    "    data_frames.append(df)\n",
    "\n",
    "# Concatenar os DataFrames em um único DataFrame\n",
    "combined_df = pd.concat(data_frames, ignore_index=True)"
   ]
  },
  {
   "cell_type": "code",
   "execution_count": 39,
   "id": "3a9b5af7",
   "metadata": {},
   "outputs": [
    {
     "data": {
      "text/html": [
       "<div>\n",
       "<style scoped>\n",
       "    .dataframe tbody tr th:only-of-type {\n",
       "        vertical-align: middle;\n",
       "    }\n",
       "\n",
       "    .dataframe tbody tr th {\n",
       "        vertical-align: top;\n",
       "    }\n",
       "\n",
       "    .dataframe thead th {\n",
       "        text-align: right;\n",
       "    }\n",
       "</style>\n",
       "<table border=\"1\" class=\"dataframe\">\n",
       "  <thead>\n",
       "    <tr style=\"text-align: right;\">\n",
       "      <th></th>\n",
       "      <th>id_emprestimo</th>\n",
       "      <th>codigo_barras</th>\n",
       "      <th>data_renovacao</th>\n",
       "      <th>data_emprestimo</th>\n",
       "      <th>data_devolucao</th>\n",
       "      <th>matricula_ou_siape</th>\n",
       "      <th>tipo_vinculo_usuario</th>\n",
       "      <th>id_exemplar</th>\n",
       "      <th>colecao</th>\n",
       "      <th>biblioteca</th>\n",
       "      <th>status_material</th>\n",
       "      <th>localizacao</th>\n",
       "      <th>registro_sistema</th>\n",
       "    </tr>\n",
       "  </thead>\n",
       "  <tbody>\n",
       "    <tr>\n",
       "      <th>0</th>\n",
       "      <td>709684</td>\n",
       "      <td>L095049</td>\n",
       "      <td>NaN</td>\n",
       "      <td>2010/01/04 07:44:10.721000000</td>\n",
       "      <td>2010/01/05 16:26:12.662000000</td>\n",
       "      <td>2.008023e+09</td>\n",
       "      <td>ALUNO DE GRADUAÇÃO</td>\n",
       "      <td>13259.0</td>\n",
       "      <td>Acervo Circulante</td>\n",
       "      <td>Biblioteca Central Zila Mamede</td>\n",
       "      <td>REGULAR</td>\n",
       "      <td>630.0</td>\n",
       "      <td>4225.0</td>\n",
       "    </tr>\n",
       "    <tr>\n",
       "      <th>1</th>\n",
       "      <td>709685</td>\n",
       "      <td>L167050</td>\n",
       "      <td>NaN</td>\n",
       "      <td>2010/01/04 07:44:10.750000000</td>\n",
       "      <td>2010/01/12 07:34:13.934000000</td>\n",
       "      <td>2.008023e+09</td>\n",
       "      <td>ALUNO DE GRADUAÇÃO</td>\n",
       "      <td>70865.0</td>\n",
       "      <td>Acervo Circulante</td>\n",
       "      <td>Biblioteca Central Zila Mamede</td>\n",
       "      <td>REGULAR</td>\n",
       "      <td>647.0</td>\n",
       "      <td>25009.0</td>\n",
       "    </tr>\n",
       "    <tr>\n",
       "      <th>2</th>\n",
       "      <td>709686</td>\n",
       "      <td>2006017618</td>\n",
       "      <td>2010/01/26 08:07:01.738000000</td>\n",
       "      <td>2010/01/04 08:08:44.081000000</td>\n",
       "      <td>2010/02/25 07:36:25.800000000</td>\n",
       "      <td>2.008112e+09</td>\n",
       "      <td>ALUNO DE PÓS-GRADUAÇÃO</td>\n",
       "      <td>195347.0</td>\n",
       "      <td>Acervo Circulante</td>\n",
       "      <td>Biblioteca Setorial Prof. Rodolfo Helinski - E...</td>\n",
       "      <td>REGULAR</td>\n",
       "      <td>640.0</td>\n",
       "      <td>75019.0</td>\n",
       "    </tr>\n",
       "  </tbody>\n",
       "</table>\n",
       "</div>"
      ],
      "text/plain": [
       "   id_emprestimo codigo_barras                 data_renovacao  \\\n",
       "0         709684       L095049                            NaN   \n",
       "1         709685       L167050                            NaN   \n",
       "2         709686    2006017618  2010/01/26 08:07:01.738000000   \n",
       "\n",
       "                 data_emprestimo                 data_devolucao  \\\n",
       "0  2010/01/04 07:44:10.721000000  2010/01/05 16:26:12.662000000   \n",
       "1  2010/01/04 07:44:10.750000000  2010/01/12 07:34:13.934000000   \n",
       "2  2010/01/04 08:08:44.081000000  2010/02/25 07:36:25.800000000   \n",
       "\n",
       "   matricula_ou_siape    tipo_vinculo_usuario  id_exemplar            colecao  \\\n",
       "0        2.008023e+09      ALUNO DE GRADUAÇÃO      13259.0  Acervo Circulante   \n",
       "1        2.008023e+09      ALUNO DE GRADUAÇÃO      70865.0  Acervo Circulante   \n",
       "2        2.008112e+09  ALUNO DE PÓS-GRADUAÇÃO     195347.0  Acervo Circulante   \n",
       "\n",
       "                                          biblioteca status_material  \\\n",
       "0                     Biblioteca Central Zila Mamede         REGULAR   \n",
       "1                     Biblioteca Central Zila Mamede         REGULAR   \n",
       "2  Biblioteca Setorial Prof. Rodolfo Helinski - E...         REGULAR   \n",
       "\n",
       "   localizacao  registro_sistema  \n",
       "0        630.0            4225.0  \n",
       "1        647.0           25009.0  \n",
       "2        640.0           75019.0  "
      ]
     },
     "execution_count": 39,
     "metadata": {},
     "output_type": "execute_result"
    }
   ],
   "source": [
    "df_parquet = pd.read_parquet(os.path.join(\"Datasets\", \"dados_exemplares.parquet\"))\n",
    "df = combined_df.merge(df_parquet, on=\"codigo_barras\", how=\"left\")\n",
    "df.head(3)"
   ]
  },
  {
   "cell_type": "markdown",
   "id": "d4c959ac",
   "metadata": {},
   "source": [
    "---\n",
    "## <font color=#5abdcd style=\"font-size: 30px;\">Limpando dados Nulos e Duplicatas</font>\n",
    "\n",
    "---"
   ]
  },
  {
   "cell_type": "code",
   "execution_count": 40,
   "id": "8bfce0c1",
   "metadata": {},
   "outputs": [],
   "source": [
    "# Remover linhas com valores ausentes\n",
    "df.dropna(inplace=True)\n",
    "\n",
    "# Remover linhas duplicadas\n",
    "df.drop_duplicates(inplace=True)"
   ]
  },
  {
   "cell_type": "code",
   "execution_count": null,
   "id": "f33157e4",
   "metadata": {},
   "outputs": [],
   "source": []
  }
 ],
 "metadata": {
  "kernelspec": {
   "display_name": "Python 3 (ipykernel)",
   "language": "python",
   "name": "python3"
  },
  "language_info": {
   "codemirror_mode": {
    "name": "ipython",
    "version": 3
   },
   "file_extension": ".py",
   "mimetype": "text/x-python",
   "name": "python",
   "nbconvert_exporter": "python",
   "pygments_lexer": "ipython3",
   "version": "3.11.3"
  }
 },
 "nbformat": 4,
 "nbformat_minor": 5
}
