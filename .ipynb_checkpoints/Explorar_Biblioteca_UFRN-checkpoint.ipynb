{
 "cells": [
  {
   "cell_type": "markdown",
   "id": "8c0854bb",
   "metadata": {},
   "source": [
    "<h1 style='color: #6a5acd; font-size: 34px; font-weight: bold;'>Exploração Biblioteca UFRN\n",
    "\n",
    "</h1>\n",
    "#5abdcd"
   ]
  },
  {
   "cell_type": "markdown",
   "id": "ba323189",
   "metadata": {},
   "source": [
    "# <font color=\"#cda35a\" style=\"font-size: 30px;\">Objetivo</font>\n",
    "<hr style=\"border: 2px solid #cda35a;\">"
   ]
  },
  {
   "cell_type": "markdown",
   "id": "b007b7a3",
   "metadata": {},
   "source": [
    " <p style='font-size: 23px; line-height: 2; margin: 0px 0px; text-align: justify; text-indent: 0px;'>    \n",
    "<i><b> Explorar dos dados da biblioteca da UFRN, tais como _______ e indentificar possíveis problemas e soluções </b></i>     \n",
    "</p>\n",
    "\n",
    "---"
   ]
  },
  {
   "cell_type": "markdown",
   "id": "7d24c5c0",
   "metadata": {},
   "source": [
    "# <font color=\"#cda35a\" style=\"font-size: 30px;\">Roteiro</font>\n",
    "<hr style=\"border: 2px solid #cda35a;\">"
   ]
  },
  {
   "cell_type": "markdown",
   "id": "be81258e",
   "metadata": {},
   "source": [
    "<h1 style='color: black; font-size:22px; font-weight: bold;'> 1. Importação de dados\n",
    "</h1>\n",
    "\n",
    "---\n",
    "\n",
    "<h1 style='color: black; font-size: 22px; font-weight: bold;'>2. Limpeza de dados\n",
    "\n",
    "</h1>\n",
    "\n",
    "---\n",
    "\n",
    "<h1 style='color: black; font-size: 22px; font-weight: bold;'> \n",
    "3. Análise exploratória de dados e DateTime\n",
    "</h1>\n",
    "\n",
    "---\n",
    "\n",
    "<h1 style='color: black; font-size: 22px; font-weight: bold;'> \n",
    "4. Análise exploratória de dados e Variáveis categóricas\n",
    "</h1>\n",
    "\n",
    "---\n",
    "\n",
    "<h1 style='color: black; font-size: 22px; font-weight: bold;'> \n",
    "5. Análise exploratória de dados e Boxplot\n",
    "</h1>\n",
    "\n",
    "---\n",
    "\n",
    "<h1 style='color: black; font-size: 22px; font-weight: bold;'> \n",
    "6. JSON, Excel e Pivot_table\n",
    "</h1>\n",
    "\n",
    "---\n",
    "\n",
    "<h1 style='color: black; font-size: 22px; font-weight: bold;'> \n",
    "7. Customização de tabelas\n",
    "</h1>\n",
    "\n",
    "---"
   ]
  },
  {
   "cell_type": "markdown",
   "id": "bac5c0a1",
   "metadata": {},
   "source": [
    "# <font color=\"#cda35a\" style=\"font-size: 30px;\">1. Importação de dados</font>\n",
    "<hr style=\"border: 2px solid #cda35a;\">"
   ]
  },
  {
   "cell_type": "code",
   "execution_count": null,
   "id": "3c3344a5",
   "metadata": {},
   "outputs": [],
   "source": []
  }
 ],
 "metadata": {
  "kernelspec": {
   "display_name": "Python 3 (ipykernel)",
   "language": "python",
   "name": "python3"
  },
  "language_info": {
   "codemirror_mode": {
    "name": "ipython",
    "version": 3
   },
   "file_extension": ".py",
   "mimetype": "text/x-python",
   "name": "python",
   "nbconvert_exporter": "python",
   "pygments_lexer": "ipython3",
   "version": "3.11.3"
  }
 },
 "nbformat": 4,
 "nbformat_minor": 5
}
