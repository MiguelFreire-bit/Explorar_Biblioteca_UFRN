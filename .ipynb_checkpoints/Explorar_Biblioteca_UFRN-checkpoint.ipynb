{
 "cells": [
  {
   "cell_type": "markdown",
   "id": "8c0854bb",
   "metadata": {},
   "source": [
    "<h1 style='color: #6a5acd; font-size: 34px; font-weight: bold;'>Exploração Biblioteca UFRN\n",
    "\n",
    "</h1>\n"
   ]
  },
  {
   "cell_type": "markdown",
   "id": "ba323189",
   "metadata": {},
   "source": [
    "# <font color=\"#cda35a\" style=\"font-size: 30px;\">Objetivo</font>\n",
    "<hr style=\"border: 2px solid #cda35a;\">"
   ]
  },
  {
   "cell_type": "markdown",
   "id": "b007b7a3",
   "metadata": {},
   "source": [
    " <p style='font-size: 23px; line-height: 2; margin: 0px 0px; text-align: justify; text-indent: 0px;'>    \n",
    "<i><b> Explorar dos dados da biblioteca da UFRN, e responder algumas preguntas, como: A quantidade de empréstimos está aumentando ou diminuindo ao decorrer dos últimos anos? Em quais bibliotecas do sistema estão a maior quantidade de empréstimos?\n",
    "Quais são os temas mais emprestados? E os menos? _______ e indentificar possíveis problemas e soluções </b></i>     \n",
    "</p>\n",
    "\n",
    "---"
   ]
  },
  {
   "cell_type": "markdown",
   "id": "7d24c5c0",
   "metadata": {},
   "source": [
    "# <font color=\"#cda35a\" style=\"font-size: 30px;\">Roteiro</font>\n",
    "<hr style=\"border: 2px solid #cda35a;\">"
   ]
  },
  {
   "cell_type": "markdown",
   "id": "be81258e",
   "metadata": {},
   "source": [
    "<h1 style='color: black; font-size:22px; font-weight: bold;'> 1. Importação de dados\n",
    "</h1>\n",
    "\n",
    "---\n",
    "\n",
    "<h1 style='color: black; font-size: 22px; font-weight: bold;'>2. Limpeza de dados\n",
    "\n",
    "</h1>\n",
    "\n",
    "---\n",
    "\n",
    "<h1 style='color: black; font-size: 22px; font-weight: bold;'> \n",
    "3. Análise exploratória de dados e DateTime\n",
    "</h1>\n",
    "\n",
    "---\n",
    "\n",
    "<h1 style='color: black; font-size: 22px; font-weight: bold;'> \n",
    "4. Análise exploratória de dados e Variáveis categóricas\n",
    "</h1>\n",
    "\n",
    "---\n",
    "\n",
    "<h1 style='color: black; font-size: 22px; font-weight: bold;'> \n",
    "5. Análise exploratória de dados e Boxplot\n",
    "</h1>\n",
    "\n",
    "---\n",
    "\n",
    "<h1 style='color: black; font-size: 22px; font-weight: bold;'> \n",
    "6. JSON, Excel e Pivot_table\n",
    "</h1>\n",
    "\n",
    "---\n",
    "\n",
    "<h1 style='color: black; font-size: 22px; font-weight: bold;'> \n",
    "7. Customização de tabelas\n",
    "</h1>\n",
    "\n",
    "---"
   ]
  },
  {
   "cell_type": "markdown",
   "id": "bac5c0a1",
   "metadata": {},
   "source": [
    "# <font color=\"#cda35a\" style=\"font-size: 30px;\">1. Importação de dados</font>\n",
    "<hr style=\"border: 2px solid #cda35a;\">"
   ]
  },
  {
   "cell_type": "markdown",
   "id": "4b625ea5",
   "metadata": {},
   "source": [
    "---\n",
    "## <font color=#5abdcd style=\"font-size: 30px;\">Unificar todos os arquivos em um único Dataframe</font>\n",
    "\n",
    "---"
   ]
  },
  {
   "cell_type": "code",
   "execution_count": 180,
   "id": "3c3344a5",
   "metadata": {},
   "outputs": [],
   "source": [
    "#importando bibliotecas\n",
    "\n",
    "import pandas as pd\n",
    "import os\n",
    "from datetime import datetime\n",
    "import seaborn as sns\n",
    "import matplotlib.pyplot as plt\n",
    "import numpy as np"
   ]
  },
  {
   "cell_type": "code",
   "execution_count": 181,
   "id": "278eb4a7",
   "metadata": {},
   "outputs": [],
   "source": [
    "# Lista para armazenar os caminhos dos arquivos CSV\n",
    "file_paths = [\n",
    "    os.path.join(\"Datasets\", \"dados_emprestimos\", \"emprestimos-20101.csv\"),\n",
    "    os.path.join(\"Datasets\", \"dados_emprestimos\", \"emprestimos-20102.csv\"),\n",
    "    os.path.join(\"Datasets\", \"dados_emprestimos\", \"emprestimos-20111.csv\"),\n",
    "    os.path.join(\"Datasets\", \"dados_emprestimos\", \"emprestimos-20112.csv\"),\n",
    "    os.path.join(\"Datasets\", \"dados_emprestimos\", \"emprestimos-20121.csv\"),\n",
    "    os.path.join(\"Datasets\", \"dados_emprestimos\", \"emprestimos-20122.csv\"),\n",
    "    os.path.join(\"Datasets\", \"dados_emprestimos\", \"emprestimos-20131.csv\"),\n",
    "    os.path.join(\"Datasets\", \"dados_emprestimos\", \"emprestimos-20132.csv\"),\n",
    "    os.path.join(\"Datasets\", \"dados_emprestimos\", \"emprestimos-20141.csv\"),\n",
    "    os.path.join(\"Datasets\", \"dados_emprestimos\", \"emprestimos-20142.csv\"),\n",
    "    os.path.join(\"Datasets\", \"dados_emprestimos\", \"emprestimos-20151.csv\"),\n",
    "    os.path.join(\"Datasets\", \"dados_emprestimos\", \"emprestimos-20152.csv\"),\n",
    "    os.path.join(\"Datasets\", \"dados_emprestimos\", \"emprestimos-20161.csv\"),\n",
    "    os.path.join(\"Datasets\", \"dados_emprestimos\", \"emprestimos-20162.csv\"),\n",
    "    os.path.join(\"Datasets\", \"dados_emprestimos\", \"emprestimos-20171.csv\"),\n",
    "    os.path.join(\"Datasets\", \"dados_emprestimos\", \"emprestimos-20172.csv\"),\n",
    "    os.path.join(\"Datasets\", \"dados_emprestimos\", \"emprestimos-20181.csv\"),\n",
    "    os.path.join(\"Datasets\", \"dados_emprestimos\", \"emprestimos-20182.csv\"),\n",
    "    os.path.join(\"Datasets\", \"dados_emprestimos\", \"emprestimos-20191.csv\"),\n",
    "    os.path.join(\"Datasets\", \"dados_emprestimos\", \"emprestimos-20192.csv\"),\n",
    "    os.path.join(\"Datasets\", \"dados_emprestimos\", \"emprestimos-20201.csv\")\n",
    "]\n",
    "\n",
    "\n",
    "# Lista para armazenar os DataFrames de cada arquivo\n",
    "data_frames = []\n",
    "\n",
    "# Iterar sobre os caminhos dos arquivos CSV\n",
    "for file_path in file_paths:\n",
    "    df = pd.read_csv(file_path)\n",
    "    data_frames.append(df)\n",
    "\n",
    "# Concatenar os DataFrames em um único DataFrame\n",
    "combined_df = pd.concat(data_frames, ignore_index=True)"
   ]
  },
  {
   "cell_type": "code",
   "execution_count": 182,
   "id": "3a9b5af7",
   "metadata": {},
   "outputs": [
    {
     "data": {
      "text/html": [
       "<div>\n",
       "<style scoped>\n",
       "    .dataframe tbody tr th:only-of-type {\n",
       "        vertical-align: middle;\n",
       "    }\n",
       "\n",
       "    .dataframe tbody tr th {\n",
       "        vertical-align: top;\n",
       "    }\n",
       "\n",
       "    .dataframe thead th {\n",
       "        text-align: right;\n",
       "    }\n",
       "</style>\n",
       "<table border=\"1\" class=\"dataframe\">\n",
       "  <thead>\n",
       "    <tr style=\"text-align: right;\">\n",
       "      <th></th>\n",
       "      <th>id_emprestimo</th>\n",
       "      <th>codigo_barras</th>\n",
       "      <th>data_renovacao</th>\n",
       "      <th>data_emprestimo</th>\n",
       "      <th>data_devolucao</th>\n",
       "      <th>matricula_ou_siape</th>\n",
       "      <th>tipo_vinculo_usuario</th>\n",
       "      <th>id_exemplar</th>\n",
       "      <th>colecao</th>\n",
       "      <th>biblioteca</th>\n",
       "      <th>status_material</th>\n",
       "      <th>localizacao</th>\n",
       "      <th>registro_sistema</th>\n",
       "    </tr>\n",
       "  </thead>\n",
       "  <tbody>\n",
       "    <tr>\n",
       "      <th>0</th>\n",
       "      <td>709684</td>\n",
       "      <td>L095049</td>\n",
       "      <td>NaN</td>\n",
       "      <td>2010/01/04 07:44:10.721000000</td>\n",
       "      <td>2010/01/05 16:26:12.662000000</td>\n",
       "      <td>2.008023e+09</td>\n",
       "      <td>ALUNO DE GRADUAÇÃO</td>\n",
       "      <td>13259.0</td>\n",
       "      <td>Acervo Circulante</td>\n",
       "      <td>Biblioteca Central Zila Mamede</td>\n",
       "      <td>REGULAR</td>\n",
       "      <td>630.0</td>\n",
       "      <td>4225.0</td>\n",
       "    </tr>\n",
       "    <tr>\n",
       "      <th>1</th>\n",
       "      <td>709685</td>\n",
       "      <td>L167050</td>\n",
       "      <td>NaN</td>\n",
       "      <td>2010/01/04 07:44:10.750000000</td>\n",
       "      <td>2010/01/12 07:34:13.934000000</td>\n",
       "      <td>2.008023e+09</td>\n",
       "      <td>ALUNO DE GRADUAÇÃO</td>\n",
       "      <td>70865.0</td>\n",
       "      <td>Acervo Circulante</td>\n",
       "      <td>Biblioteca Central Zila Mamede</td>\n",
       "      <td>REGULAR</td>\n",
       "      <td>647.0</td>\n",
       "      <td>25009.0</td>\n",
       "    </tr>\n",
       "    <tr>\n",
       "      <th>2</th>\n",
       "      <td>709686</td>\n",
       "      <td>2006017618</td>\n",
       "      <td>2010/01/26 08:07:01.738000000</td>\n",
       "      <td>2010/01/04 08:08:44.081000000</td>\n",
       "      <td>2010/02/25 07:36:25.800000000</td>\n",
       "      <td>2.008112e+09</td>\n",
       "      <td>ALUNO DE PÓS-GRADUAÇÃO</td>\n",
       "      <td>195347.0</td>\n",
       "      <td>Acervo Circulante</td>\n",
       "      <td>Biblioteca Setorial Prof. Rodolfo Helinski - E...</td>\n",
       "      <td>REGULAR</td>\n",
       "      <td>640.0</td>\n",
       "      <td>75019.0</td>\n",
       "    </tr>\n",
       "  </tbody>\n",
       "</table>\n",
       "</div>"
      ],
      "text/plain": [
       "   id_emprestimo codigo_barras                 data_renovacao  \\\n",
       "0         709684       L095049                            NaN   \n",
       "1         709685       L167050                            NaN   \n",
       "2         709686    2006017618  2010/01/26 08:07:01.738000000   \n",
       "\n",
       "                 data_emprestimo                 data_devolucao  \\\n",
       "0  2010/01/04 07:44:10.721000000  2010/01/05 16:26:12.662000000   \n",
       "1  2010/01/04 07:44:10.750000000  2010/01/12 07:34:13.934000000   \n",
       "2  2010/01/04 08:08:44.081000000  2010/02/25 07:36:25.800000000   \n",
       "\n",
       "   matricula_ou_siape    tipo_vinculo_usuario  id_exemplar            colecao  \\\n",
       "0        2.008023e+09      ALUNO DE GRADUAÇÃO      13259.0  Acervo Circulante   \n",
       "1        2.008023e+09      ALUNO DE GRADUAÇÃO      70865.0  Acervo Circulante   \n",
       "2        2.008112e+09  ALUNO DE PÓS-GRADUAÇÃO     195347.0  Acervo Circulante   \n",
       "\n",
       "                                          biblioteca status_material  \\\n",
       "0                     Biblioteca Central Zila Mamede         REGULAR   \n",
       "1                     Biblioteca Central Zila Mamede         REGULAR   \n",
       "2  Biblioteca Setorial Prof. Rodolfo Helinski - E...         REGULAR   \n",
       "\n",
       "   localizacao  registro_sistema  \n",
       "0        630.0            4225.0  \n",
       "1        647.0           25009.0  \n",
       "2        640.0           75019.0  "
      ]
     },
     "execution_count": 182,
     "metadata": {},
     "output_type": "execute_result"
    }
   ],
   "source": [
    "df_parquet = pd.read_parquet(os.path.join(\"Datasets\", \"dados_exemplares.parquet\"))\n",
    "df = combined_df.merge(df_parquet, on=\"codigo_barras\", how=\"left\")\n",
    "df.head(3)"
   ]
  },
  {
   "cell_type": "markdown",
   "id": "d4c959ac",
   "metadata": {},
   "source": [
    "---\n",
    "## <font color=#5abdcd style=\"font-size: 30px;\">Limpando dados Nulos e Duplicatas</font>\n",
    "\n",
    "---"
   ]
  },
  {
   "cell_type": "code",
   "execution_count": 183,
   "id": "8bfce0c1",
   "metadata": {},
   "outputs": [],
   "source": [
    "# Remover linhas com valores ausentes\n",
    "df.dropna(inplace=True)\n",
    "\n",
    "# Remover linhas duplicadas\n",
    "df.drop_duplicates(inplace=True)"
   ]
  },
  {
   "cell_type": "markdown",
   "id": "51121c4a",
   "metadata": {},
   "source": [
    "# <font color=\"#cda35a\" style=\"font-size: 30px;\">2. Limpeza de dados</font>\n",
    "<hr style=\"border: 2px solid #cda35a;\">"
   ]
  },
  {
   "cell_type": "code",
   "execution_count": 184,
   "id": "f419bf34",
   "metadata": {},
   "outputs": [],
   "source": [
    "intervalos = {\n",
    "    (0, 100): 'Generalidades',\n",
    "    (100, 200): 'Filosofia e psicologia',\n",
    "    (200, 300): 'Religião',\n",
    "    (300, 400): 'Ciências sociais',\n",
    "    (400, 500): 'Classe vaga',\n",
    "    (500, 600): 'Matemática e ciências naturais',\n",
    "    (600, 700): 'Ciências aplicadas',\n",
    "    (700, 800): 'Belas artes',\n",
    "    (800, 900): 'Linguagem',\n",
    "    (900, float('inf')): 'Geografia. Biografia. História.'\n",
    "}\n",
    "\n",
    "CDU_lista = []\n",
    "for CDU in df['localizacao']:\n",
    "    categoria = next(value for (key_start, key_end), value in intervalos.items() if CDU >= key_start and CDU < key_end)\n",
    "    CDU_lista.append(categoria)\n",
    "\n",
    "df['CDU_geral'] = CDU_lista"
   ]
  },
  {
   "cell_type": "code",
   "execution_count": 185,
   "id": "2d40db00",
   "metadata": {},
   "outputs": [],
   "source": [
    "df.drop(columns=['registro_sistema'],inplace=True)\n",
    "df['matricula_ou_siape'] = df['matricula_ou_siape'].astype('string')"
   ]
  },
  {
   "cell_type": "markdown",
   "id": "5053c79e",
   "metadata": {},
   "source": [
    "# <font color=\"#cda35a\" style=\"font-size: 30px;\">3. Análise exploratória de dados e DateTime </font>\n",
    "<hr style=\"border: 2px solid #cda35a;\">"
   ]
  },
  {
   "cell_type": "code",
   "execution_count": 186,
   "id": "c930161e",
   "metadata": {},
   "outputs": [],
   "source": [
    "df['data_emprestimo'] = pd.to_datetime(df['data_emprestimo'])"
   ]
  },
  {
   "cell_type": "code",
   "execution_count": 187,
   "id": "330edadd",
   "metadata": {},
   "outputs": [
    {
     "data": {
      "text/plain": [
       "[71336, 93768, 103915, 105416, 94177, 85409, 94921, 94080, 81853, 74149, 7388]"
      ]
     },
     "execution_count": 187,
     "metadata": {},
     "output_type": "execute_result"
    }
   ],
   "source": [
    "df['Ano_Emprestimo'] = df['data_emprestimo'].dt.year.astype(int)\n",
    "\n",
    "total_por_ano = []\n",
    "for ano in list(df['Ano_Emprestimo'].unique()):\n",
    "    total = df.query(\"Ano_Emprestimo == @ano\")['id_exemplar'].count()\n",
    "    total_por_ano.append(total)\n",
    "total_por_ano"
   ]
  },
  {
   "cell_type": "code",
   "execution_count": 202,
   "id": "277d3c7a",
   "metadata": {},
   "outputs": [
    {
     "data": {
      "image/png": "[encoded data removed]",
      "text/plain": [
       "<Figure size 1000x600 with 1 Axes>"
      ]
     },
     "metadata": {},
     "output_type": "display_data"
    }
   ],
   "source": [
    "#Plotando o Gráfico\n",
    "\n",
    "anos = list(df['Ano_Emprestimo'].unique())\n",
    "\n",
    "# Remover Bordas \n",
    "sns.set_style(\"white\")\n",
    "\n",
    "\n",
    "plt.figure(figsize=(10, 6))\n",
    "ax = sns.lineplot(x=anos, y=total_por_ano, lw=2, marker='o')\n",
    "\n",
    "# Label x\n",
    "plt.xticks(anos)\n",
    "\n",
    "\n",
    "\n",
    "plt.show()"
   ]
  },
  {
   "cell_type": "markdown",
   "id": "cae3d3d4",
   "metadata": {},
   "source": [
    "---\n",
    "# <font color=#5abdcd style=\"font-size: 30px;\">Análise do Gráfico</font>\n",
    "<hr style=\"border: 2px solid #5abdcd;\">\n",
    "\n",
    "\n",
    "### <font color=#5abdcd style=\"font-size: 30px;\">Houve uma grande queda no ano da pandemia</font>\n",
    "### <font color=#5abdcd style=\"font-size: 30px;\">declínio de 2013 a 2015</font>\n",
    "### <font color=#5abdcd style=\"font-size: 30px;\">depois de um avanço em 2015 voltou a cair</font>\n",
    "\n",
    "---"
   ]
  },
  {
   "cell_type": "code",
   "execution_count": 189,
   "id": "1a2a9637",
   "metadata": {},
   "outputs": [
    {
     "data": {
      "text/html": [
       "<div>\n",
       "<style scoped>\n",
       "    .dataframe tbody tr th:only-of-type {\n",
       "        vertical-align: middle;\n",
       "    }\n",
       "\n",
       "    .dataframe tbody tr th {\n",
       "        vertical-align: top;\n",
       "    }\n",
       "\n",
       "    .dataframe thead th {\n",
       "        text-align: right;\n",
       "    }\n",
       "</style>\n",
       "<table border=\"1\" class=\"dataframe\">\n",
       "  <thead>\n",
       "    <tr style=\"text-align: right;\">\n",
       "      <th></th>\n",
       "      <th>quantidade</th>\n",
       "    </tr>\n",
       "    <tr>\n",
       "      <th>mes</th>\n",
       "      <th></th>\n",
       "    </tr>\n",
       "  </thead>\n",
       "  <tbody>\n",
       "    <tr>\n",
       "      <th>Jan</th>\n",
       "      <td>36231</td>\n",
       "    </tr>\n",
       "    <tr>\n",
       "      <th>Fev</th>\n",
       "      <td>109353</td>\n",
       "    </tr>\n",
       "    <tr>\n",
       "      <th>Mar</th>\n",
       "      <td>108625</td>\n",
       "    </tr>\n",
       "    <tr>\n",
       "      <th>Abr</th>\n",
       "      <td>91686</td>\n",
       "    </tr>\n",
       "    <tr>\n",
       "      <th>Mai</th>\n",
       "      <td>81520</td>\n",
       "    </tr>\n",
       "    <tr>\n",
       "      <th>Jun</th>\n",
       "      <td>44944</td>\n",
       "    </tr>\n",
       "    <tr>\n",
       "      <th>Jul</th>\n",
       "      <td>64493</td>\n",
       "    </tr>\n",
       "    <tr>\n",
       "      <th>Ago</th>\n",
       "      <td>111095</td>\n",
       "    </tr>\n",
       "    <tr>\n",
       "      <th>Set</th>\n",
       "      <td>93015</td>\n",
       "    </tr>\n",
       "    <tr>\n",
       "      <th>Out</th>\n",
       "      <td>81783</td>\n",
       "    </tr>\n",
       "    <tr>\n",
       "      <th>Nov</th>\n",
       "      <td>56470</td>\n",
       "    </tr>\n",
       "    <tr>\n",
       "      <th>Dez</th>\n",
       "      <td>27197</td>\n",
       "    </tr>\n",
       "  </tbody>\n",
       "</table>\n",
       "</div>"
      ],
      "text/plain": [
       "     quantidade\n",
       "mes            \n",
       "Jan       36231\n",
       "Fev      109353\n",
       "Mar      108625\n",
       "Abr       91686\n",
       "Mai       81520\n",
       "Jun       44944\n",
       "Jul       64493\n",
       "Ago      111095\n",
       "Set       93015\n",
       "Out       81783\n",
       "Nov       56470\n",
       "Dez       27197"
      ]
     },
     "execution_count": 189,
     "metadata": {},
     "output_type": "execute_result"
    }
   ],
   "source": [
    "#separando os meses\n",
    "df['mes_emprestimo'] = df['data_emprestimo'].dt.month.astype(int)\n",
    "\n",
    "#contando quantos empréstimos por mês\n",
    "filmes_por_mes = df.groupby('mes_emprestimo')['id_exemplar'].count()\n",
    "\n",
    "\n",
    "# Renomeando os meses\n",
    "dicionario_meses = {1:'Jan',2:'Fev',3:'Mar',4:'Abr',\n",
    "                    5:'Mai',6:'Jun',7:'Jul',8:'Ago',\n",
    "                    9:'Set',10:'Out',11:'Nov',12:'Dez'}\n",
    "filmes_por_mes.index = filmes_por_mes.index.map(dicionario_meses)\n",
    "\n",
    "filmes_por_mes = filmes_por_mes.to_frame()\n",
    "filmes_por_mes.index.name = 'mes'\n",
    "filmes_por_mes.columns = ['quantidade']\n",
    "filmes_por_mes"
   ]
  },
  {
   "cell_type": "code",
   "execution_count": 190,
   "id": "4c4de2ae",
   "metadata": {},
   "outputs": [
    {
     "data": {
      "image/png": "[encoded data removed]",
      "text/plain": [
       "<Figure size 1000x600 with 1 Axes>"
      ]
     },
     "metadata": {},
     "output_type": "display_data"
    }
   ],
   "source": [
    "#Plotando o Gráfico\n",
    "\n",
    "anos = list(df['Ano_Emprestimo'].unique())\n",
    "\n",
    "plt.figure(figsize=(10, 6))\n",
    "ax = sns.lineplot(x=filmes_por_mes.index, y=filmes_por_mes['quantidade'], lw=2, marker='o')\n",
    "\n",
    "plt.show()"
   ]
  },
  {
   "cell_type": "markdown",
   "id": "6965a990",
   "metadata": {},
   "source": [
    "---\n",
    "# <font color=#5abdcd style=\"font-size: 30px;\">Análise do Gráfico</font>\n",
    "<hr style=\"border: 2px solid #5abdcd;\">\n",
    "\n",
    "\n",
    "### <font color=#5abdcd style=\"font-size: 30px;\">os meses de Janeiro, Junho e Dezembro são os menos movimentados, normalmente meses de férias</font>\n",
    "### <font color=#5abdcd style=\"font-size: 30px;\">meses mais ativos (fevereiro e agosto)</font>\n",
    "### <font color=#5abdcd style=\"font-size: 30px;\">no meses de pouco movimento pode-ser incluir férias para a maioria dos colaboradores.</font>\n",
    "\n",
    "---"
   ]
  },
  {
   "cell_type": "code",
   "execution_count": 191,
   "id": "7174e925",
   "metadata": {},
   "outputs": [
    {
     "data": {
      "text/html": [
       "<div>\n",
       "<style scoped>\n",
       "    .dataframe tbody tr th:only-of-type {\n",
       "        vertical-align: middle;\n",
       "    }\n",
       "\n",
       "    .dataframe tbody tr th {\n",
       "        vertical-align: top;\n",
       "    }\n",
       "\n",
       "    .dataframe thead th {\n",
       "        text-align: right;\n",
       "    }\n",
       "</style>\n",
       "<table border=\"1\" class=\"dataframe\">\n",
       "  <thead>\n",
       "    <tr style=\"text-align: right;\">\n",
       "      <th></th>\n",
       "      <th>quantidade</th>\n",
       "    </tr>\n",
       "    <tr>\n",
       "      <th>Hora</th>\n",
       "      <th></th>\n",
       "    </tr>\n",
       "  </thead>\n",
       "  <tbody>\n",
       "    <tr>\n",
       "      <th>16</th>\n",
       "      <td>92822</td>\n",
       "    </tr>\n",
       "    <tr>\n",
       "      <th>17</th>\n",
       "      <td>82122</td>\n",
       "    </tr>\n",
       "    <tr>\n",
       "      <th>18</th>\n",
       "      <td>81939</td>\n",
       "    </tr>\n",
       "    <tr>\n",
       "      <th>10</th>\n",
       "      <td>81028</td>\n",
       "    </tr>\n",
       "    <tr>\n",
       "      <th>11</th>\n",
       "      <td>77772</td>\n",
       "    </tr>\n",
       "    <tr>\n",
       "      <th>15</th>\n",
       "      <td>72048</td>\n",
       "    </tr>\n",
       "    <tr>\n",
       "      <th>12</th>\n",
       "      <td>66460</td>\n",
       "    </tr>\n",
       "    <tr>\n",
       "      <th>14</th>\n",
       "      <td>66175</td>\n",
       "    </tr>\n",
       "    <tr>\n",
       "      <th>20</th>\n",
       "      <td>57247</td>\n",
       "    </tr>\n",
       "    <tr>\n",
       "      <th>13</th>\n",
       "      <td>55810</td>\n",
       "    </tr>\n",
       "    <tr>\n",
       "      <th>9</th>\n",
       "      <td>55773</td>\n",
       "    </tr>\n",
       "    <tr>\n",
       "      <th>8</th>\n",
       "      <td>45481</td>\n",
       "    </tr>\n",
       "    <tr>\n",
       "      <th>19</th>\n",
       "      <td>44043</td>\n",
       "    </tr>\n",
       "    <tr>\n",
       "      <th>21</th>\n",
       "      <td>19990</td>\n",
       "    </tr>\n",
       "    <tr>\n",
       "      <th>7</th>\n",
       "      <td>7624</td>\n",
       "    </tr>\n",
       "    <tr>\n",
       "      <th>22</th>\n",
       "      <td>61</td>\n",
       "    </tr>\n",
       "    <tr>\n",
       "      <th>23</th>\n",
       "      <td>14</td>\n",
       "    </tr>\n",
       "    <tr>\n",
       "      <th>0</th>\n",
       "      <td>2</td>\n",
       "    </tr>\n",
       "    <tr>\n",
       "      <th>6</th>\n",
       "      <td>1</td>\n",
       "    </tr>\n",
       "  </tbody>\n",
       "</table>\n",
       "</div>"
      ],
      "text/plain": [
       "      quantidade\n",
       "Hora            \n",
       "16         92822\n",
       "17         82122\n",
       "18         81939\n",
       "10         81028\n",
       "11         77772\n",
       "15         72048\n",
       "12         66460\n",
       "14         66175\n",
       "20         57247\n",
       "13         55810\n",
       "9          55773\n",
       "8          45481\n",
       "19         44043\n",
       "21         19990\n",
       "7           7624\n",
       "22            61\n",
       "23            14\n",
       "0              2\n",
       "6              1"
      ]
     },
     "execution_count": 191,
     "metadata": {},
     "output_type": "execute_result"
    }
   ],
   "source": [
    "#separando os horários\n",
    "df['hora_emprestimo'] = df['data_emprestimo'].dt.hour.astype(int)\n",
    "\n",
    "#contando quantos empréstimos por hora\n",
    "filmes_por_hora = df.groupby('hora_emprestimo')['id_exemplar'].count()\n",
    "\n",
    "# Tabela com o movimento em cada horário \n",
    "filmes_por_hora = filmes_por_hora.to_frame()\n",
    "filmes_por_hora.index.name = 'Hora'\n",
    "filmes_por_hora.columns = ['quantidade']\n",
    "filmes_por_hora.sort_values(by='quantidade', ascending=False)"
   ]
  },
  {
   "cell_type": "code",
   "execution_count": 222,
   "id": "aa1dd9c5",
   "metadata": {},
   "outputs": [
    {
     "data": {
      "image/png": "[encoded data removed]",
      "text/plain": [
       "<Figure size 1000x800 with 1 Axes>"
      ]
     },
     "metadata": {},
     "output_type": "display_data"
    }
   ],
   "source": [
    "#plotando gráfico de barras\n",
    "\n",
    "plt.figure(figsize=(10,8))\n",
    "\n",
    "ax = sns.barplot(x= filmes_por_hora.index, y =filmes_por_hora['quantidade'])"
   ]
  },
  {
   "cell_type": "markdown",
   "id": "06d8d816",
   "metadata": {},
   "source": [
    "---\n",
    "# <font color=#5abdcd style=\"font-size: 30px;\">Análise do Gráfico</font>\n",
    "<hr style=\"border: 2px solid #5abdcd;\">\n",
    "\n",
    "\n",
    "## <font color=#5abdcd style=\"font-size: 30px;\">quais seriam os melhores horários para alocar as demais atividades que não sejam de atendimento ao usuário:</font>\n",
    "# > <font color=#5abdcd style=\"font-size: 30px;\">Até as 7 horas da manhã o movimento é baixo.</font>\n",
    "# > <font color=#5abdcd style=\"font-size: 30px;\">Das 21 horas em diante.</font>\n",
    "\n",
    "---"
   ]
  },
  {
   "cell_type": "code",
   "execution_count": null,
   "id": "454af976",
   "metadata": {},
   "outputs": [],
   "source": []
  }
 ],
 "metadata": {
  "kernelspec": {
   "display_name": "Python 3 (ipykernel)",
   "language": "python",
   "name": "python3"
  },
  "language_info": {
   "codemirror_mode": {
    "name": "ipython",
    "version": 3
   },
   "file_extension": ".py",
   "mimetype": "text/x-python",
   "name": "python",
   "nbconvert_exporter": "python",
   "pygments_lexer": "ipython3",
   "version": "3.11.3"
  }
 },
 "nbformat": 4,
 "nbformat_minor": 5
}
